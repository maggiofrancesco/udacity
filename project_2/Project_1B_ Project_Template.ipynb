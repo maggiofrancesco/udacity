{
 "cells": [
  {
   "cell_type": "markdown",
   "metadata": {},
   "source": [
    "# Part I. ETL Pipeline for Pre-Processing the Files"
   ]
  },
  {
   "cell_type": "markdown",
   "metadata": {},
   "source": [
    "## PLEASE RUN THE FOLLOWING CODE FOR PRE-PROCESSING THE FILES"
   ]
  },
  {
   "cell_type": "markdown",
   "metadata": {},
   "source": [
    "#### Import Python packages "
   ]
  },
  {
   "cell_type": "code",
   "execution_count": 25,
   "metadata": {},
   "outputs": [],
   "source": [
    "# Import Python packages \n",
    "import pandas as pd\n",
    "import cassandra\n",
    "import re\n",
    "import os\n",
    "import glob\n",
    "import numpy as np\n",
    "import json\n",
    "import csv"
   ]
  },
  {
   "cell_type": "markdown",
   "metadata": {},
   "source": [
    "#### Creating list of filepaths to process original event csv data files"
   ]
  },
  {
   "cell_type": "code",
   "execution_count": 26,
   "metadata": {},
   "outputs": [
    {
     "name": "stdout",
     "output_type": "stream",
     "text": [
      "C:\\Users\\franc\\Desktop\\Big Data Engineering\\project_2\n"
     ]
    }
   ],
   "source": [
    "# checking your current working directory\n",
    "print(os.getcwd())\n",
    "\n",
    "# Get your current folder and subfolder event data\n",
    "filepath = os.getcwd() + '/event_data'\n",
    "\n",
    "# Create a for loop to create a list of files and collect each filepath\n",
    "for root, dirs, files in os.walk(filepath):\n",
    "    \n",
    "# join the file path and roots with the subdirectories using glob\n",
    "    file_path_list = glob.glob(os.path.join(root,'*'))\n",
    "    #print(file_path_list)"
   ]
  },
  {
   "cell_type": "markdown",
   "metadata": {},
   "source": [
    "#### Processing the files to create the data file csv that will be used for Apache Casssandra tables"
   ]
  },
  {
   "cell_type": "code",
   "execution_count": 27,
   "metadata": {},
   "outputs": [],
   "source": [
    "# initiating an empty list of rows that will be generated from each file\n",
    "full_data_rows_list = [] \n",
    "    \n",
    "# for every filepath in the file path list \n",
    "for f in file_path_list:\n",
    "\n",
    "# reading csv file \n",
    "    with open(f, 'r', encoding = 'utf8', newline='') as csvfile: \n",
    "        # creating a csv reader object \n",
    "        csvreader = csv.reader(csvfile) \n",
    "        next(csvreader)\n",
    "        \n",
    " # extracting each data row one by one and append it        \n",
    "        for line in csvreader:\n",
    "            #print(line)\n",
    "            full_data_rows_list.append(line) \n",
    "            \n",
    "# uncomment the code below if you would like to get total number of rows \n",
    "#print(len(full_data_rows_list))\n",
    "# uncomment the code below if you would like to check to see what the list of event data rows will look like\n",
    "#print(full_data_rows_list)\n",
    "\n",
    "# creating a smaller event data csv file called event_datafile_full csv that will be used to insert data into the \\\n",
    "# Apache Cassandra tables\n",
    "csv.register_dialect('myDialect', quoting=csv.QUOTE_ALL, skipinitialspace=True)\n",
    "\n",
    "with open('event_datafile_new.csv', 'w', encoding = 'utf8', newline='') as f:\n",
    "    writer = csv.writer(f, dialect='myDialect')\n",
    "    writer.writerow(['artist','firstName','gender','itemInSession','lastName','length',\\\n",
    "                'level','location','sessionId','song','userId'])\n",
    "    for row in full_data_rows_list:\n",
    "        if row[0] == '':\n",
    "            continue\n",
    "        writer.writerow((row[0], row[2], row[3], row[4], row[5], row[6], row[7], row[8], row[12], row[13], row[16]))\n"
   ]
  },
  {
   "cell_type": "code",
   "execution_count": 28,
   "metadata": {},
   "outputs": [
    {
     "name": "stdout",
     "output_type": "stream",
     "text": [
      "3626\n"
     ]
    }
   ],
   "source": [
    "# check the number of rows in your csv file\n",
    "with open('event_datafile_new.csv', 'r', encoding = 'utf8') as f:\n",
    "    print(sum(1 for line in f))"
   ]
  },
  {
   "cell_type": "markdown",
   "metadata": {},
   "source": [
    "# Part II. Complete the Apache Cassandra coding portion of your project. \n",
    "\n",
    "## Now you are ready to work with the CSV file titled <font color=red>event_datafile_new.csv</font>, located within the Workspace directory.  The event_datafile_new.csv contains the following columns: \n",
    "- artist \n",
    "- firstName of user\n",
    "- gender of user\n",
    "- item number in session\n",
    "- last name of user\n",
    "- length of the song\n",
    "- level (paid or free song)\n",
    "- location of the user\n",
    "- sessionId\n",
    "- song title\n",
    "- userId\n",
    "\n",
    "The image below is a screenshot of what the denormalized data should appear like in the <font color=red>**event_datafile_new.csv**</font> after the code above is run:<br>\n",
    "\n",
    "<img src=\"images/image_event_datafile_new.jpg\">"
   ]
  },
  {
   "cell_type": "markdown",
   "metadata": {},
   "source": [
    "## Begin writing your Apache Cassandra code in the cells below"
   ]
  },
  {
   "cell_type": "markdown",
   "metadata": {},
   "source": [
    "#### Creating a Cluster"
   ]
  },
  {
   "cell_type": "code",
   "execution_count": 29,
   "metadata": {},
   "outputs": [],
   "source": [
    "# DB connection\n",
    "from cassandra.cluster import Cluster\n",
    "try:\n",
    "    cluster = Cluster(['127.0.0.1'])\n",
    "    # To establish connection and begin executing queries, need a session\n",
    "    session = cluster.connect()\n",
    "except Exception as e:\n",
    "    print(e)"
   ]
  },
  {
   "cell_type": "markdown",
   "metadata": {},
   "source": [
    "#### Create Keyspace"
   ]
  },
  {
   "cell_type": "code",
   "execution_count": 30,
   "metadata": {},
   "outputs": [],
   "source": [
    "try:\n",
    "    session.execute(\"\"\"\n",
    "        CREATE KEYSPACE IF NOT EXISTS music_plays\n",
    "        WITH REPLICATION =\n",
    "        {'class': 'SimpleStrategy', 'replication_factor': 1}\"\"\"\n",
    "    )\n",
    "except Exception as e:\n",
    "    print(e)"
   ]
  },
  {
   "cell_type": "markdown",
   "metadata": {},
   "source": [
    "#### Set Keyspace"
   ]
  },
  {
   "cell_type": "code",
   "execution_count": 31,
   "metadata": {},
   "outputs": [],
   "source": [
    "# Set KEYSPACE to the keyspace specified above\n",
    "try:\n",
    "    session.set_keyspace('music_plays')\n",
    "except Exception as e:\n",
    "    print(e)"
   ]
  },
  {
   "cell_type": "markdown",
   "metadata": {},
   "source": [
    "### Now we need to create tables to run the following queries. Remember, with Apache Cassandra you model the database tables on the queries you want to run."
   ]
  },
  {
   "cell_type": "markdown",
   "metadata": {},
   "source": [
    "## Create queries to ask the following three questions of the data\n",
    "\n",
    "### 1. Give me the artist, song title and song's length in the music app history that was heard during  sessionId = 338, and itemInSession  = 4\n",
    "\n",
    "\n",
    "### 2. Give me only the following: name of artist, song (sorted by itemInSession) and user (first and last name) for userid = 10, sessionid = 182\n",
    "    \n",
    "\n",
    "### 3. Give me every user name (first and last) in my music app history who listened to the song 'All Hands Against His Own'\n",
    "\n",
    "\n",
    "\n",
    "#### Query 1"
   ]
  },
  {
   "cell_type": "code",
   "execution_count": 32,
   "metadata": {},
   "outputs": [],
   "source": [
    "drop_table_query1 = \"DROP TABLE IF EXISTS songs_session\"\n",
    "\n",
    "# query 1 requires sessionId and itemsInSession in the WHERE clause.\n",
    "# added a composed primary key using sessionId (partition key) and itemsInSession (clustering column)\n",
    "create_table_query1 = \"\"\"\n",
    "    CREATE TABLE IF NOT EXISTS songs_session (\n",
    "    sessionId INT,\n",
    "    itemInSession INT,\n",
    "    artistName TEXT,\n",
    "    songTitle TEXT,\n",
    "    songLength FLOAT,\n",
    "    PRIMARY KEY (sessionId, itemInSession))\n",
    "\"\"\"\n",
    "\n",
    "try:\n",
    "    session.execute(drop_table_query1)\n",
    "    session.execute(create_table_query1)\n",
    "except Exception as e:\n",
    "    print(e)"
   ]
  },
  {
   "cell_type": "code",
   "execution_count": 33,
   "metadata": {
    "scrolled": false
   },
   "outputs": [],
   "source": [
    "file = 'event_datafile_new.csv'\n",
    "\n",
    "with open(file, encoding = 'utf8') as f:\n",
    "    csvreader = csv.reader(f)\n",
    "    next(csvreader) # skip header\n",
    "    for line in csvreader:\n",
    "        ## INSERT data into songs_session\n",
    "        query = \"INSERT INTO songs_session (sessionId, itemInSession, artistName, songTitle, songLength) \"\n",
    "        query = query + \"VALUES (%s, %s, %s, %s, %s)\"\n",
    "        session.execute(query, (int(line[8]), int(line[3]), line[0], line[9], float(line[5])))"
   ]
  },
  {
   "cell_type": "markdown",
   "metadata": {},
   "source": [
    "#### Do a SELECT to verify that the data have been inserted into each table"
   ]
  },
  {
   "cell_type": "code",
   "execution_count": 34,
   "metadata": {
    "scrolled": true
   },
   "outputs": [
    {
     "name": "stdout",
     "output_type": "stream",
     "text": [
      "Faithless Music Matters (Mark Knight Dub) 495.30731201171875\n"
     ]
    },
    {
     "data": {
      "text/plain": "        artist                             song    length\n964  Faithless  Music Matters (Mark Knight Dub)  495.3073",
      "text/html": "<div>\n<style scoped>\n    .dataframe tbody tr th:only-of-type {\n        vertical-align: middle;\n    }\n\n    .dataframe tbody tr th {\n        vertical-align: top;\n    }\n\n    .dataframe thead th {\n        text-align: right;\n    }\n</style>\n<table border=\"1\" class=\"dataframe\">\n  <thead>\n    <tr style=\"text-align: right;\">\n      <th></th>\n      <th>artist</th>\n      <th>song</th>\n      <th>length</th>\n    </tr>\n  </thead>\n  <tbody>\n    <tr>\n      <th>964</th>\n      <td>Faithless</td>\n      <td>Music Matters (Mark Knight Dub)</td>\n      <td>495.3073</td>\n    </tr>\n  </tbody>\n</table>\n</div>"
     },
     "execution_count": 34,
     "metadata": {},
     "output_type": "execute_result"
    }
   ],
   "source": [
    "## check on data inserted in songs_session\n",
    "\n",
    "select_query_1 = \"\"\"\n",
    "    SELECT artistName, songTitle, songLength\n",
    "    FROM songs_session\n",
    "    WHERE sessionId=338 AND itemInSession=4\"\"\"\n",
    "\n",
    "try:\n",
    "    rows = session.execute(select_query_1)\n",
    "    for row in rows:\n",
    "        print (row.artistname, row.songtitle, row.songlength)\n",
    "except Exception as e:\n",
    "    print(e)\n",
    "\n",
    "#double check on the import file using pandas\n",
    "df = pd.read_csv(file)\n",
    "df.loc[(df['sessionId'] == 338) & (df['itemInSession'] == 4), ['artist', 'song', 'length']]"
   ]
  },
  {
   "cell_type": "markdown",
   "metadata": {},
   "source": [
    "#### Query 2"
   ]
  },
  {
   "cell_type": "code",
   "execution_count": 35,
   "metadata": {},
   "outputs": [],
   "source": [
    "drop_table_query2 = \"DROP TABLE IF EXISTS songs_user\"\n",
    "\n",
    "# query 2 requires userId and sessionId in the WHERE clause.\n",
    "# Added a composed primary key using userId (partition key) and sessionId / itemsInSession as clustering columns.\n",
    "# We uniquely identify every songs played by each user in different sessions, however we accept only one song for\n",
    "# each user session (think about multiple songs listed by the user in the same session).\n",
    "create_table_query2 = \"\"\"\n",
    "    CREATE TABLE IF NOT EXISTS songs_user (\n",
    "    userId INT,\n",
    "    sessionId INT,\n",
    "    itemInSession INT,\n",
    "    artistName TEXT,\n",
    "    songTitle TEXT,\n",
    "    userFirstName TEXT,\n",
    "    userLastName TEXT,\n",
    "    PRIMARY KEY (userId, sessionId, itemInSession))\n",
    "\"\"\"\n",
    "\n",
    "try:\n",
    "    session.execute(drop_table_query2)\n",
    "    session.execute(create_table_query2)\n",
    "except Exception as e:\n",
    "    print(e)"
   ]
  },
  {
   "cell_type": "code",
   "execution_count": 36,
   "outputs": [],
   "source": [
    "file = 'event_datafile_new.csv'\n",
    "\n",
    "with open(file, encoding = 'utf8') as f:\n",
    "    csvreader = csv.reader(f)\n",
    "    next(csvreader) # skip header\n",
    "    for line in csvreader:\n",
    "        ## INSERT data into songs_user\n",
    "        query = \"INSERT INTO songs_user (userId, sessionId, itemInSession, artistName, songTitle, userFirstName, userLastName) \"\n",
    "        query = query + \"VALUES (%s, %s, %s, %s, %s, %s, %s)\"\n",
    "        session.execute(query, (int(line[10]), int(line[8]), int(line[3]), line[0], line[9], line[1], line[4]))"
   ],
   "metadata": {
    "collapsed": false,
    "pycharm": {
     "name": "#%%\n"
    }
   }
  },
  {
   "cell_type": "markdown",
   "source": [
    "#### Do a SELECT to verify that the data have been inserted into each table"
   ],
   "metadata": {
    "collapsed": false
   }
  },
  {
   "cell_type": "code",
   "execution_count": 37,
   "outputs": [
    {
     "name": "stdout",
     "output_type": "stream",
     "text": [
      "Down To The Bone Keep On Keepin' On Sylvie Cruz\n",
      "Three Drives Greece 2000 Sylvie Cruz\n",
      "Sebastien Tellier Kilometer Sylvie Cruz\n",
      "Lonnie Gordon Catch You Baby (Steve Pitron & Max Sanna Radio Edit) Sylvie Cruz\n"
     ]
    },
    {
     "data": {
      "text/plain": "                artist                                               song  \\\n151   Down To The Bone                                 Keep On Keepin' On   \n152       Three Drives                                        Greece 2000   \n153  Sebastien Tellier                                          Kilometer   \n154      Lonnie Gordon  Catch You Baby (Steve Pitron & Max Sanna Radio...   \n\n    firstName lastName  \n151    Sylvie     Cruz  \n152    Sylvie     Cruz  \n153    Sylvie     Cruz  \n154    Sylvie     Cruz  ",
      "text/html": "<div>\n<style scoped>\n    .dataframe tbody tr th:only-of-type {\n        vertical-align: middle;\n    }\n\n    .dataframe tbody tr th {\n        vertical-align: top;\n    }\n\n    .dataframe thead th {\n        text-align: right;\n    }\n</style>\n<table border=\"1\" class=\"dataframe\">\n  <thead>\n    <tr style=\"text-align: right;\">\n      <th></th>\n      <th>artist</th>\n      <th>song</th>\n      <th>firstName</th>\n      <th>lastName</th>\n    </tr>\n  </thead>\n  <tbody>\n    <tr>\n      <th>151</th>\n      <td>Down To The Bone</td>\n      <td>Keep On Keepin' On</td>\n      <td>Sylvie</td>\n      <td>Cruz</td>\n    </tr>\n    <tr>\n      <th>152</th>\n      <td>Three Drives</td>\n      <td>Greece 2000</td>\n      <td>Sylvie</td>\n      <td>Cruz</td>\n    </tr>\n    <tr>\n      <th>153</th>\n      <td>Sebastien Tellier</td>\n      <td>Kilometer</td>\n      <td>Sylvie</td>\n      <td>Cruz</td>\n    </tr>\n    <tr>\n      <th>154</th>\n      <td>Lonnie Gordon</td>\n      <td>Catch You Baby (Steve Pitron &amp; Max Sanna Radio...</td>\n      <td>Sylvie</td>\n      <td>Cruz</td>\n    </tr>\n  </tbody>\n</table>\n</div>"
     },
     "execution_count": 37,
     "metadata": {},
     "output_type": "execute_result"
    }
   ],
   "source": [
    "# check on data inserted in songs_user\n",
    "\n",
    "select_query_2 = \"\"\"\n",
    "    SELECT artistname, songtitle, userfirstname, userlastname\n",
    "    FROM songs_user\n",
    "    WHERE userid=10 AND sessionid=182\"\"\"\n",
    "\n",
    "try:\n",
    "    rows = session.execute(select_query_2)\n",
    "    for row in rows:\n",
    "        print (row.artistname, row.songtitle, row.userfirstname, row.userlastname)\n",
    "except Exception as e:\n",
    "    print(e)\n",
    "\n",
    "#double check on the import file using pandas\n",
    "df = pd.read_csv(file)\n",
    "df.sort_values(by='itemInSession').loc[(df['userId'] == 10) & (df['sessionId'] == 182), ['artist', 'song', 'firstName', 'lastName']]"
   ],
   "metadata": {
    "collapsed": false,
    "pycharm": {
     "name": "#%%\n"
    }
   }
  },
  {
   "cell_type": "markdown",
   "source": [
    "#### Query 3"
   ],
   "metadata": {
    "collapsed": false
   }
  },
  {
   "cell_type": "code",
   "execution_count": 38,
   "metadata": {},
   "outputs": [],
   "source": [
    "drop_table_query3 = \"DROP TABLE IF EXISTS songs_listened\"\n",
    "\n",
    "# query 3 requires songTitle in the WHERE clause.\n",
    "# Added a composed primary key using songTitle (partition key) and userId / sessionId as clustering columns.\n",
    "create_table_query3 = \"\"\"\n",
    "    CREATE TABLE IF NOT EXISTS songs_listened (\n",
    "    userId INT,\n",
    "    sessionId INT,\n",
    "    songTitle TEXT,\n",
    "    userFirstName TEXT,\n",
    "    userLastName TEXT,\n",
    "    PRIMARY KEY (songTitle, userId, sessionId))\n",
    "\"\"\"\n",
    "\n",
    "try:\n",
    "    session.execute(drop_table_query3)\n",
    "    session.execute(create_table_query3)\n",
    "except Exception as e:\n",
    "    print(e)"
   ]
  },
  {
   "cell_type": "code",
   "execution_count": 39,
   "metadata": {},
   "outputs": [],
   "source": [
    "file = 'event_datafile_new.csv'\n",
    "\n",
    "with open(file, encoding = 'utf8') as f:\n",
    "    csvreader = csv.reader(f)\n",
    "    next(csvreader) # skip header\n",
    "    for line in csvreader:\n",
    "        ## INSERT data into songs_listened\n",
    "        query = \"INSERT INTO songs_listened (userId, sessionId, songTitle, userFirstName, userLastName) \"\n",
    "        query = query + \"VALUES (%s, %s, %s, %s, %s)\"\n",
    "        session.execute(query, (int(line[10]), int(line[8]), line[9], line[1], line[4]))"
   ]
  },
  {
   "cell_type": "markdown",
   "source": [
    "#### Do a SELECT to verify that the data have been inserted into each table"
   ],
   "metadata": {
    "collapsed": false,
    "pycharm": {
     "name": "#%% md\n"
    }
   }
  },
  {
   "cell_type": "code",
   "execution_count": 40,
   "metadata": {},
   "outputs": [
    {
     "name": "stdout",
     "output_type": "stream",
     "text": [
      "Jacqueline Lynch\n",
      "Tegan Levine\n",
      "Sara Johnson\n"
     ]
    },
    {
     "data": {
      "text/plain": "       firstName lastName\n219         Sara  Johnson\n2442  Jacqueline    Lynch\n2646       Tegan   Levine",
      "text/html": "<div>\n<style scoped>\n    .dataframe tbody tr th:only-of-type {\n        vertical-align: middle;\n    }\n\n    .dataframe tbody tr th {\n        vertical-align: top;\n    }\n\n    .dataframe thead th {\n        text-align: right;\n    }\n</style>\n<table border=\"1\" class=\"dataframe\">\n  <thead>\n    <tr style=\"text-align: right;\">\n      <th></th>\n      <th>firstName</th>\n      <th>lastName</th>\n    </tr>\n  </thead>\n  <tbody>\n    <tr>\n      <th>219</th>\n      <td>Sara</td>\n      <td>Johnson</td>\n    </tr>\n    <tr>\n      <th>2442</th>\n      <td>Jacqueline</td>\n      <td>Lynch</td>\n    </tr>\n    <tr>\n      <th>2646</th>\n      <td>Tegan</td>\n      <td>Levine</td>\n    </tr>\n  </tbody>\n</table>\n</div>"
     },
     "execution_count": 40,
     "metadata": {},
     "output_type": "execute_result"
    }
   ],
   "source": [
    "# check on data insert in songs_listened\n",
    "\n",
    "select_query_3 = \"\"\"\n",
    "    SELECT userfirstname, userlastname\n",
    "    FROM songs_listened\n",
    "    WHERE songTitle='All Hands Against His Own' \"\"\"\n",
    "\n",
    "try:\n",
    "    rows = session.execute(select_query_3)\n",
    "    for row in rows:\n",
    "        print (row.userfirstname, row.userlastname)\n",
    "except Exception as e:\n",
    "    print(e)\n",
    "\n",
    "#double check on the import file using pandas\n",
    "df = pd.read_csv(file)\n",
    "df.loc[(df['song'] == 'All Hands Against His Own'), ['firstName', 'lastName']]\n"
   ]
  },
  {
   "cell_type": "markdown",
   "metadata": {},
   "source": [
    "### Drop the tables before closing out the sessions"
   ]
  },
  {
   "cell_type": "code",
   "execution_count": 41,
   "metadata": {},
   "outputs": [],
   "source": [
    "try:\n",
    "    session.execute(drop_table_query1)\n",
    "    session.execute(drop_table_query2)\n",
    "    session.execute(drop_table_query3)\n",
    "except Exception as e:\n",
    "    print(e)"
   ]
  },
  {
   "cell_type": "markdown",
   "metadata": {},
   "source": [
    "### Close the session and cluster connection¶"
   ]
  },
  {
   "cell_type": "code",
   "execution_count": 42,
   "metadata": {
    "pycharm": {
     "name": "#%%\n"
    }
   },
   "outputs": [],
   "source": [
    "session.shutdown()\n",
    "cluster.shutdown()\n"
   ]
  }
 ],
 "metadata": {
  "kernelspec": {
   "display_name": "Python 3",
   "language": "python",
   "name": "python3"
  },
  "language_info": {
   "codemirror_mode": {
    "name": "ipython",
    "version": 3
   },
   "file_extension": ".py",
   "mimetype": "text/x-python",
   "name": "python",
   "nbconvert_exporter": "python",
   "pygments_lexer": "ipython3",
   "version": "3.6.3"
  }
 },
 "nbformat": 4,
 "nbformat_minor": 2
}